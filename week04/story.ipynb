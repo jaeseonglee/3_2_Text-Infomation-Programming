{
 "cells": [
  {
   "cell_type": "code",
   "execution_count": 8,
   "metadata": {},
   "outputs": [],
   "source": [
    "story1 = \"In the big states of Maharashtra, Gujarat and Uttar Pradesh, some of the areas worst-affected by the virus, demand for oxygen has more than tripled, doctors and government officials said, prompting urgent calls for help.\\n Desperate patients have been calling me through the night but I don’t know when I will get stock,\"\" Rishikhesh Patil, an oxygen supplier in the western city of Nashik, told Reuters. \\nMeanwhile, a senior minister in Prime Minister Narendra Modi’s cabinet, Nitin Gadkari, also tested positive for the coronavirus infection, he said in a tweet.\"\n",
    "story2 = \"India is in crisis. Its economy has crashed, with the largest slump on record decimating millions of jobs. Its already fragile healthcare system is buckling under the weight of soaring coronavirus cases. With more than five million cases, India ranks only behind the United States for confirmed infections. \\n But whereas other populist leaders are feeling the political heat from their handling of the pandemic -- US President Donald Trump and his British counterpart Boris Johnson, for instance -- Indian Prime Minister Narendra Modi has largely escaped the scathing headlines and crushing opinion polls that have beleaguered his counterparts.\""
   ]
  },
  {
   "cell_type": "code",
   "execution_count": 10,
   "metadata": {},
   "outputs": [],
   "source": [
    "story1 = story1.replace(\",\", \"\").replace(\"\\n\", \"\").replace('.', '').replace('\"', '').replace(\"!\", \"\").replace(\"?\", \"\").casefold()\n",
    "story2 = story2.replace(\",\", \"\").replace(\"\\n\", \"\").replace('.', '').replace('\"', '').replace(\"!\", \"\").replace(\"?\", \"\").casefold()"
   ]
  },
  {
   "cell_type": "code",
   "execution_count": 11,
   "metadata": {},
   "outputs": [],
   "source": [
    "import nltk"
   ]
  },
  {
   "cell_type": "code",
   "execution_count": 12,
   "metadata": {},
   "outputs": [
    {
     "name": "stdout",
     "output_type": "stream",
     "text": [
      "첫 번째 이야기 단어 : ['in', 'the', 'big', 'states', 'of', 'maharashtra', 'gujarat', 'and', 'uttar', 'pradesh', 'some', 'of', 'the', 'areas', 'worst-affected', 'by', 'the', 'virus', 'demand', 'for', 'oxygen', 'has', 'more', 'than', 'tripled', 'doctors', 'and', 'government', 'officials', 'said', 'prompting', 'urgent', 'calls', 'for', 'help', 'desperate', 'patients', 'have', 'been', 'calling', 'me', 'through', 'the', 'night', 'but', 'i', 'don’t', 'know', 'when', 'i', 'will', 'get', 'stock', 'rishikhesh', 'patil', 'an', 'oxygen', 'supplier', 'in', 'the', 'western', 'city', 'of', 'nashik', 'told', 'reuters', 'meanwhile', 'a', 'senior', 'minister', 'in', 'prime', 'minister', 'narendra', 'modi’s', 'cabinet', 'nitin', 'gadkari', 'also', 'tested', 'positive', 'for', 'the', 'coronavirus', 'infection', 'he', 'said', 'in', 'a', 'tweet']\n",
      "두 번째 이야기 단어 : ['india', 'is', 'in', 'crisis', 'its', 'economy', 'has', 'crashed', 'with', 'the', 'largest', 'slump', 'on', 'record', 'decimating', 'millions', 'of', 'jobs', 'its', 'already', 'fragile', 'healthcare', 'system', 'is', 'buckling', 'under', 'the', 'weight', 'of', 'soaring', 'coronavirus', 'cases', 'with', 'more', 'than', 'five', 'million', 'cases', 'india', 'ranks', 'only', 'behind', 'the', 'united', 'states', 'for', 'confirmed', 'infections', '', 'but', 'whereas', 'other', 'populist', 'leaders', 'are', 'feeling', 'the', 'political', 'heat', 'from', 'their', 'handling', 'of', 'the', 'pandemic', '--', 'us', 'president', 'donald', 'trump', 'and', 'his', 'british', 'counterpart', 'boris', 'johnson', 'for', 'instance', '--', 'indian', 'prime', 'minister', 'narendra', 'modi', 'has', 'largely', 'escaped', 'the', 'scathing', 'headlines', 'and', 'crushing', 'opinion', 'polls', 'that', 'have', 'beleaguered', 'his', 'counterparts']\n"
     ]
    }
   ],
   "source": [
    "story1_words = story1.split(\" \")\n",
    "print(\"첫 번째 이야기 단어 :\", story1_words)\n",
    "story2_words = story2.split(\" \")\n",
    "print(\"두 번째 이야기 단어 :\", story2_words)"
   ]
  },
  {
   "cell_type": "code",
   "execution_count": 13,
   "metadata": {},
   "outputs": [
    {
     "name": "stdout",
     "output_type": "stream",
     "text": [
      "첫 번째 이야기 어휘 : {'than', 'and', 'modi’s', 'worst-affected', 'i', 'big', 'night', 'uttar', 'will', 'some', 'supplier', 'calls', 'in', 'by', 'reuters', 'get', 'tested', 'of', 'know', 'tripled', 'infection', 'rishikhesh', 'me', 'positive', 'areas', 'for', 'been', 'help', 'calling', 'tweet', 'minister', 'have', 'senior', 'through', 'urgent', 'don’t', 'officials', 'said', 'but', 'meanwhile', 'when', 'western', 'prime', 'stock', 'oxygen', 'gadkari', 'states', 'pradesh', 'more', 'patil', 'virus', 'a', 'has', 'prompting', 'also', 'told', 'government', 'nashik', 'coronavirus', 'gujarat', 'an', 'patients', 'city', 'he', 'the', 'desperate', 'nitin', 'demand', 'cabinet', 'maharashtra', 'doctors', 'narendra'}\n",
      "두 번째 이야기 어휘 : {'', 'headlines', 'us', 'that', 'crashed', 'but', 'millions', 'prime', 'its', 'beleaguered', 'more', 'counterparts', 'has', 'johnson', 'their', 'coronavirus', 'with', 'than', 'and', 'in', 'political', 'only', 'president', 'is', 'minister', 'donald', 'jobs', 'infections', 'states', 'united', 'boris', 'handling', 'india', 'weight', 'narendra', 'populist', 'slump', 'leaders', 'feeling', 'his', 'on', 'for', 'polls', 'ranks', 'are', 'largely', 'scathing', 'heat', 'system', 'record', 'buckling', 'fragile', 'behind', 'crisis', 'million', 'of', 'cases', 'opinion', 'economy', 'healthcare', 'other', 'under', 'decimating', 'instance', 'largest', 'have', 'confirmed', 'whereas', 'five', 'soaring', '--', 'modi', 'from', 'already', 'british', 'pandemic', 'indian', 'counterpart', 'crushing', 'the', 'escaped', 'trump'}\n"
     ]
    }
   ],
   "source": [
    "story1_vocab = set(story1_words)\n",
    "print(\"첫 번째 이야기 어휘 :\", story1_vocab)\n",
    "story2_vocab = set(story2_words)\n",
    "print(\"두 번째 이야기 어휘 :\", story2_vocab)"
   ]
  },
  {
   "cell_type": "code",
   "execution_count": 14,
   "metadata": {},
   "outputs": [
    {
     "name": "stdout",
     "output_type": "stream",
     "text": [
      "공통 어휘 : {'than', 'and', 'prime', 'coronavirus', 'for', 'the', 'states', 'minister', 'have', 'more', 'has', 'of', 'in', 'but', 'narendra'}\n"
     ]
    }
   ],
   "source": [
    "common_vocab = story1_vocab & story2_vocab\n",
    "print(\"공통 어휘 :\", common_vocab)"
   ]
  }
 ],
 "metadata": {
  "kernelspec": {
   "display_name": "Python 3",
   "language": "python",
   "name": "python3"
  },
  "language_info": {
   "codemirror_mode": {
    "name": "ipython",
    "version": 3
   },
   "file_extension": ".py",
   "mimetype": "text/x-python",
   "name": "python",
   "nbconvert_exporter": "python",
   "pygments_lexer": "ipython3",
   "version": "3.8.3"
  }
 },
 "nbformat": 4,
 "nbformat_minor": 4
}
