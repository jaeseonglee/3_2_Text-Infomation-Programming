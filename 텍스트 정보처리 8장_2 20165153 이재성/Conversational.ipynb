{
 "cells": [
  {
   "cell_type": "code",
   "execution_count": 1,
   "metadata": {},
   "outputs": [],
   "source": [
    "import nltk # nltk.chat 모듈을 사용"
   ]
  },
  {
   "cell_type": "code",
   "execution_count": 5,
   "metadata": {},
   "outputs": [],
   "source": [
    "def builtinEngines(whichOne):\n",
    "    # whichOne에 있는 인수에 따라 어떤 채팅 엔진의 demo() 함수가 호출될지를 결정하느 전형적인 분기 명령 (269p)\n",
    "    \n",
    "    if whichOne == 'eliza':\n",
    "        nltk.chat.eliza.demo()  \n",
    "    elif whichOne == 'iesha':\n",
    "        nltk.chat.iesha.demo()\n",
    "    elif whichOne == 'rude':\n",
    "        nltk.chat.rude.demo()\n",
    "    elif whichOne == 'suntsu':\n",
    "        nltk.chat.suntsu.demo()\n",
    "    elif whichOne == 'zen':\n",
    "        nltk.chat.zen.demo()\n",
    "    else:\n",
    "        print(\"unknown built-in chat engine {}\".format(whichOne)) # 사용자가 알 수 없는 엔진 이름이면 모른다고 출력"
   ]
  },
  {
   "cell_type": "code",
   "execution_count": 6,
   "metadata": {},
   "outputs": [],
   "source": [
    "def myEngine(): # 사용자 정의 myEngine\n",
    "    chatpairs = (\n",
    "        (r\"(.*?)Stock price(.*)\",\n",
    "            (\"Today stock price is 100\",\n",
    "            \"I am unable to find out the stock price.\")),\n",
    "        (r\"(.*?)not well(.*)\",\n",
    "            (\"Oh, take care. May be you should visit a doctor\",\n",
    "            \"Did you take some medicine ?\")),\n",
    "        (r\"(.*?)raining(.*)\",\n",
    "            (\"Its monsoon season, what more do you expect ?\",\n",
    "            \"Yes, its good for farmers\")),\n",
    "        (r\"How(.*?)health(.*)\",\n",
    "            (\"I am always healthy.\",\n",
    "            \"I am a program, super healthy!\")),\n",
    "        (r\".*\",\n",
    "            (\"I am good. How are you today ?\",\n",
    "            \"What brings you here ?\"))\n",
    "    )\n",
    "    \n",
    "    def chat():\n",
    "        print(\"!\"*80)\n",
    "        print(\" >> 내 엔진 << \")\n",
    "        print(\"일반 영어로 프로그램과 대화\")\n",
    "        print(\"=\"*80)\n",
    "        print(\"완료되면 'quit' 입력\")\n",
    "        chatbot = nltk.chat.util.Chat(chatpairs, nltk.chat.util.reflections) # nltk.chat.util.Chat\n",
    "        chatbot.converse()\n",
    "    \n",
    "    chat()"
   ]
  },
  {
   "cell_type": "code",
   "execution_count": 9,
   "metadata": {},
   "outputs": [
    {
     "name": "stdout",
     "output_type": "stream",
     "text": [
      "=== demo of eliza ===\n",
      "Therapist\n",
      "---------\n",
      "Talk to the program by typing in plain English, using normal upper-\n",
      "and lower-case letters and punctuation.  Enter \"quit\" when done.\n",
      "========================================================================\n",
      "Hello.  How are you feeling today?\n",
      ">\n",
      ">quit\n",
      "Good-bye.\n",
      "\n",
      "=== demo of iesha ===\n",
      "Iesha the TeenBoT\n",
      "---------\n",
      "Talk to the program by typing in plain English, using normal upper-\n",
      "and lower-case letters and punctuation.  Enter \"quit\" when done.\n",
      "========================================================================\n",
      "hi!! i'm iesha! who r u??!\n",
      ">quit\n",
      "how to see u again soon! ^_^\n",
      "\n",
      "=== demo of rude ===\n",
      "Talk to the program by typing in plain English, using normal upper-\n",
      "and lower-case letters and punctuation.  Enter \"quit\" when done.\n",
      "========================================================================\n",
      "I suppose I should say hello.\n",
      ">quit\n",
      "I'm getting bored here. Become more interesting.\n",
      "\n",
      "=== demo of suntsu ===\n",
      "Talk to the program by typing in plain English, using normal upper-\n",
      "and lower-case letters and punctuation.  Enter \"quit\" when done.\n",
      "========================================================================\n",
      "You seek enlightenment?\n",
      ">quit\n",
      "Good-bye.\n",
      "\n",
      "=== demo of zen ===\n",
      "***************************************************************************\n",
      "                                Zen Chatbot!                               \n",
      "***************************************************************************\n",
      "         \"Look beyond mere words and letters - look into your mind\"        \n",
      "* Talk your way to truth with Zen Chatbot.\n",
      "* Type 'quit' when you have had enough.\n",
      "***************************************************************************\n",
      "Welcome, my child.\n",
      ">quit\n",
      "Form is emptiness, and emptiness is form.\n",
      "\n",
      "!!!!!!!!!!!!!!!!!!!!!!!!!!!!!!!!!!!!!!!!!!!!!!!!!!!!!!!!!!!!!!!!!!!!!!!!!!!!!!!!\n",
      " >> 내 엔진 << \n",
      "일반 영어로 프로그램과 대화\n",
      "================================================================================\n",
      "완료되면 'quit' 입력\n",
      ">quit\n",
      "I am good. How are you today ?\n"
     ]
    }
   ],
   "source": [
    "if __name__ == '__main__':\n",
    "    for engine in ['eliza', 'iesha', 'rude', 'suntsu', 'zen']:\n",
    "        print(\"=== demo of {} ===\".format(engine))\n",
    "        builtinEngines(engine)\n",
    "        print()\n",
    "    myEngine()"
   ]
  },
  {
   "cell_type": "code",
   "execution_count": null,
   "metadata": {},
   "outputs": [],
   "source": []
  }
 ],
 "metadata": {
  "kernelspec": {
   "display_name": "Python 3",
   "language": "python",
   "name": "python3"
  },
  "language_info": {
   "codemirror_mode": {
    "name": "ipython",
    "version": 3
   },
   "file_extension": ".py",
   "mimetype": "text/x-python",
   "name": "python",
   "nbconvert_exporter": "python",
   "pygments_lexer": "ipython3",
   "version": "3.8.3"
  }
 },
 "nbformat": 4,
 "nbformat_minor": 4
}
