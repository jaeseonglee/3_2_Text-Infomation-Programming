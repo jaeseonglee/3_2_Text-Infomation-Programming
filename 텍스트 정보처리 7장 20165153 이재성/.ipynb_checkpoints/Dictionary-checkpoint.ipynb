{
 "cells": [
  {
   "cell_type": "code",
   "execution_count": 1,
   "metadata": {},
   "outputs": [],
   "source": [
    "import nltk"
   ]
  },
  {
   "cell_type": "code",
   "execution_count": 9,
   "metadata": {},
   "outputs": [],
   "source": [
    "class LearningDictionary():\n",
    "    def __init__(self, sentence): # init\n",
    "        self.words = nltk.word_tokenize(sentence) # 토큰화 \n",
    "        self.tagged = nltk.pos_tag(self.words) # 품사 식별 후 태그 저장\n",
    "        self.buildDictionary()\n",
    "        self.buildReverseDictionary()\n",
    "\n",
    "    def buildDictionary(self):\n",
    "        self.dictionary = {}\n",
    "        for (word, pos) in self.tagged: # 반복문을 통해 비어있는 dictionary를 초기화한다.\n",
    "            self.dictionary[word] = pos\n",
    "\n",
    "    def buildReverseDictionary(self):\n",
    "        self.rdictionary = {}\n",
    "        for key in self.dictionary.keys(): # 모든 dictionary 키의 품사를 추출한다\n",
    "            value = self.dictionary[key]\n",
    "            if value not in self.rdictionary: # rdictionary: 역딕셔너리\n",
    "                self.rdictionary[value] = [key]\n",
    "            else:\n",
    "                self.rdictionary[value].append(key)\n",
    "\n",
    "    def isWordPresent(self, word): # 단어가 있는지 없는지 여부를 확인\n",
    "        return 'Yes' if word in self.dictionary else 'No'\n",
    "\n",
    "    def getPOSForWord(self, word): # 매개변수로 주어진 단언의 품사를 반환\n",
    "        return self.dictionary[word] if word in self.dictionary else None\n",
    "\n",
    "    def getWordsForPOS(self, pos): # 역딕셔너리를 조사해 주어진 품사가 있는 문장의 모든 단어 반환(193p)\n",
    "        return self.rdictionary[pos] if pos in self.rdictionary else None"
   ]
  },
  {
   "cell_type": "code",
   "execution_count": 10,
   "metadata": {},
   "outputs": [],
   "source": [
    "sentence = \"All the flights got delayed due to bad weather\""
   ]
  },
  {
   "cell_type": "code",
   "execution_count": 11,
   "metadata": {},
   "outputs": [],
   "source": [
    "learning = LearningDictionary(sentence)"
   ]
  },
  {
   "cell_type": "code",
   "execution_count": 12,
   "metadata": {},
   "outputs": [],
   "source": [
    "words = [\"chair\", \"flights\", \"delayed\", \"pencil\", \"weather\"]"
   ]
  },
  {
   "cell_type": "code",
   "execution_count": 13,
   "metadata": {},
   "outputs": [],
   "source": [
    "pos = [\"NN\", \"VBS\", \"NNS\"]"
   ]
  },
  {
   "cell_type": "code",
   "execution_count": 18,
   "metadata": {},
   "outputs": [
    {
     "name": "stdout",
     "output_type": "stream",
     "text": [
      "Is 'chair' present in dictionary ? : 'No'\n",
      "Is 'flights' present in dictionary ? : 'Yes'\n",
      "Is 'delayed' present in dictionary ? : 'Yes'\n",
      "Is 'pencil' present in dictionary ? : 'No'\n",
      "Is 'weather' present in dictionary ? : 'Yes'\n"
     ]
    }
   ],
   "source": [
    "for word in words:\n",
    "    status = learning.isWordPresent(word) # word가 딕셔너리에 있는지 확인\n",
    "    print(\"Is '{}' present in dictionary ? : '{}'\".format(word, status))\n",
    "    if status is True:\n",
    "        print(\"\\tPOS For '{}' is '{}'\".format(word, learning.getPOSForWord(word)))"
   ]
  },
  {
   "cell_type": "code",
   "execution_count": 19,
   "metadata": {},
   "outputs": [
    {
     "name": "stdout",
     "output_type": "stream",
     "text": [
      "POS 'NN' has '['weather']' words\n",
      "POS 'VBS' has 'None' words\n",
      "POS 'NNS' has '['flights']' words\n"
     ]
    }
   ],
   "source": [
    "for pword in pos:\n",
    "    print(\"POS '{}' has '{}' words\".format(pword, learning.getWordsForPOS(pword)))"
   ]
  }
 ],
 "metadata": {
  "kernelspec": {
   "display_name": "Python 3",
   "language": "python",
   "name": "python3"
  },
  "language_info": {
   "codemirror_mode": {
    "name": "ipython",
    "version": 3
   },
   "file_extension": ".py",
   "mimetype": "text/x-python",
   "name": "python",
   "nbconvert_exporter": "python",
   "pygments_lexer": "ipython3",
   "version": "3.8.3"
  }
 },
 "nbformat": 4,
 "nbformat_minor": 4
}
