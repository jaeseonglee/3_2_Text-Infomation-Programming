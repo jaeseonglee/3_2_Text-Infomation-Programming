{
 "cells": [
  {
   "cell_type": "code",
   "execution_count": 1,
   "metadata": {},
   "outputs": [],
   "source": [
    "import re"
   ]
  },
  {
   "cell_type": "code",
   "execution_count": 2,
   "metadata": {},
   "outputs": [],
   "source": [
    "def text_match(text, patterns):    # text에 patterns가 나타나는지 확인하는 text_match함수\n",
    "    if re.search(patterns, text):\n",
    "        return('일치하는 항목을 찾았습니다.')\n",
    "    else:\n",
    "        return('일치하지 않음.')"
   ]
  },
  {
   "cell_type": "code",
   "execution_count": 4,
   "metadata": {},
   "outputs": [
    {
     "name": "stdout",
     "output_type": "stream",
     "text": [
      "테스트 패턴은 다음으로 시작하고 끝남\n",
      "일치하는 항목을 찾았습니다.\n"
     ]
    }
   ],
   "source": [
    "print(\"테스트 패턴은 다음으로 시작하고 끝남\")\n",
    "print(text_match(\"abbc\", \"^a.*c$\"))  # a로 시작하고 .(와일드카드)가 0번 이상 등장, c로 끝나는 문자열"
   ]
  },
  {
   "cell_type": "code",
   "execution_count": 6,
   "metadata": {},
   "outputs": [
    {
     "name": "stdout",
     "output_type": "stream",
     "text": [
      "단어로 시작함\n",
      "일치하는 항목을 찾았습니다.\n"
     ]
    }
   ],
   "source": [
    "print(\"단어로 시작함\")\n",
    "print(text_match(\"Tuffy eats pie, Loki eats peas!\", \"^\\w+\"))      # \\w (역슬래시 w: 모든 영문자)가 1번이상 등장으로 시작(^)"
   ]
  },
  {
   "cell_type": "code",
   "execution_count": 9,
   "metadata": {},
   "outputs": [
    {
     "name": "stdout",
     "output_type": "stream",
     "text": [
      "단어와 선택적 문장부호로 끝남\n",
      "일치하는 항목을 찾았습니다.\n"
     ]
    }
   ],
   "source": [
    "print(\"단어와 선택적 문장부호로 끝남\")\n",
    "print(text_match(\"Tuffy eats pie, Loki eats peas!\", \"\\w+\\S*?$\"))  \n",
    "# $ 로 문자 끝을 지정\n",
    "# \\w+ 로 단어가 1개 이상 등장, \\S(역슬래시 S: \\s(공백 문자)의 반대, 공백이 아닌 어떤 문자) 가 *로 0번 이상 \n",
    "# 나오는데 ?를 통해 나올 수 도 있고 아닐 수도 있다."
   ]
  },
  {
   "cell_type": "code",
   "execution_count": 11,
   "metadata": {},
   "outputs": [
    {
     "name": "stdout",
     "output_type": "stream",
     "text": [
      "단어의 시작이나 끝이 아닌 문자가 포함된 단어 찾기\n",
      "일치하는 항목을 찾았습니다.\n"
     ]
    }
   ],
   "source": [
    "print(\"단어의 시작이나 끝이 아닌 문자가 포함된 단어 찾기\")\n",
    "print(text_match(\"Tuffy eats pie, Loki eats peas!\", \"\\Bu\\B\"))   \n",
    "# \\B (문자와 공백사이가 아닌값) 여기서는 Tuff 까지가 해당"
   ]
  },
  {
   "cell_type": "code",
   "execution_count": null,
   "metadata": {},
   "outputs": [],
   "source": []
  }
 ],
 "metadata": {
  "kernelspec": {
   "display_name": "Python 3",
   "language": "python",
   "name": "python3"
  },
  "language_info": {
   "codemirror_mode": {
    "name": "ipython",
    "version": 3
   },
   "file_extension": ".py",
   "mimetype": "text/x-python",
   "name": "python",
   "nbconvert_exporter": "python",
   "pygments_lexer": "ipython3",
   "version": "3.8.3"
  }
 },
 "nbformat": 4,
 "nbformat_minor": 4
}
