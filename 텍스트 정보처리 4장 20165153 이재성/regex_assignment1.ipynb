{
 "cells": [
  {
   "cell_type": "code",
   "execution_count": 1,
   "metadata": {},
   "outputs": [],
   "source": [
    "import re"
   ]
  },
  {
   "cell_type": "code",
   "execution_count": 2,
   "metadata": {},
   "outputs": [
    {
     "name": "stdout",
     "output_type": "stream",
     "text": [
      "21 Teheran Rd\n"
     ]
    }
   ],
   "source": [
    "street = '21 Teheran Road'\n",
    "print(re.sub('Road', 'Rd', street))   # 문자를 대체하는 sub 함수"
   ]
  },
  {
   "cell_type": "code",
   "execution_count": 4,
   "metadata": {},
   "outputs": [
    {
     "name": "stdout",
     "output_type": "stream",
     "text": [
      "['light', 'color']\n"
     ]
    }
   ],
   "source": [
    "text = 'Diwali is a festival of light, Holi is a festival of color!'\n",
    "print(re.findall(r\"\\b\\w{5}\\b\", text))   # \\b(문자와 공백사이의 문자) \\w 알파벳,숫자,_ "
   ]
  }
 ],
 "metadata": {
  "kernelspec": {
   "display_name": "Python 3",
   "language": "python",
   "name": "python3"
  },
  "language_info": {
   "codemirror_mode": {
    "name": "ipython",
    "version": 3
   },
   "file_extension": ".py",
   "mimetype": "text/x-python",
   "name": "python",
   "nbconvert_exporter": "python",
   "pygments_lexer": "ipython3",
   "version": "3.8.3"
  }
 },
 "nbformat": 4,
 "nbformat_minor": 4
}
