{
 "cells": [
  {
   "cell_type": "code",
   "execution_count": 1,
   "metadata": {},
   "outputs": [],
   "source": [
    "import re"
   ]
  },
  {
   "cell_type": "code",
   "execution_count": 3,
   "metadata": {},
   "outputs": [],
   "source": [
    "url = \"http://www.telegraph.co.uk/formula-1/2018/10/28/mexican-grand-prix-2017-time-does-start-tv-channel-odds-lewis1/\" # 여기서는 URL 자체를 문자열로 보는 것\n",
    "date_regex = '/(\\d{4})/(\\d{1,2})/(\\d{1,2})/'   # \\d 는 0~9 의 숫자를 의미한다, 날짜 표시를 검출"
   ]
  },
  {
   "cell_type": "code",
   "execution_count": 4,
   "metadata": {},
   "outputs": [
    {
     "name": "stdout",
     "output_type": "stream",
     "text": [
      "URL에서 찾은 날짜 : [('2018', '10', '28')]\n"
     ]
    }
   ],
   "source": [
    "print(\"URL에서 찾은 날짜 :\", re.findall(date_regex, url))   # findall은 패턴이 문자열에 있으면 모두 반환"
   ]
  },
  {
   "cell_type": "code",
   "execution_count": 7,
   "metadata": {},
   "outputs": [],
   "source": [
    "def is_allowed_specific_char(string):\n",
    "    charRe = re.compile(r'[^a-zA-Z0-9.]')  # 패턴을 정의하면 그 패턴을 재구성해 반환하는 compile 함수\n",
    "    string = charRe.search(string)         # a-z, A-Z, 0-9 또는 . 범위의 문자를 제외 (^)\n",
    "    return not bool(string)           # 반환시 not 이 있기 때문에 결과를 부정 반환"
   ]
  },
  {
   "cell_type": "code",
   "execution_count": 8,
   "metadata": {},
   "outputs": [
    {
     "name": "stdout",
     "output_type": "stream",
     "text": [
      "True\n",
      "False\n"
     ]
    }
   ],
   "source": [
    "print(is_allowed_specific_char(\"ABCDEFabcedf123450.\"))\n",
    "print(is_allowed_specific_char(\"*&%@#!}{}\"))"
   ]
  }
 ],
 "metadata": {
  "kernelspec": {
   "display_name": "Python 3",
   "language": "python",
   "name": "python3"
  },
  "language_info": {
   "codemirror_mode": {
    "name": "ipython",
    "version": 3
   },
   "file_extension": ".py",
   "mimetype": "text/x-python",
   "name": "python",
   "nbconvert_exporter": "python",
   "pygments_lexer": "ipython3",
   "version": "3.8.3"
  }
 },
 "nbformat": 4,
 "nbformat_minor": 4
}
