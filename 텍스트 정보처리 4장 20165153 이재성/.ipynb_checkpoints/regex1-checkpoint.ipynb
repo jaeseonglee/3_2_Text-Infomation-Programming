{
 "cells": [
  {
   "cell_type": "code",
   "execution_count": 1,
   "metadata": {},
   "outputs": [],
   "source": [
    "import re"
   ]
  },
  {
   "cell_type": "code",
   "execution_count": 4,
   "metadata": {},
   "outputs": [],
   "source": [
    "def text_match(text, patterns):    # text에 patterns가 나타나는지 확인하는 text_match함수\n",
    "    if re.search(patterns, text):\n",
    "        return('일치하는 항목을 찾았습니다.')\n",
    "    else:\n",
    "        return('일치하지 않음.')"
   ]
  },
  {
   "cell_type": "code",
   "execution_count": 6,
   "metadata": {},
   "outputs": [
    {
     "name": "stdout",
     "output_type": "stream",
     "text": [
      "일치하는 항목을 찾았습니다.\n",
      "일치하는 항목을 찾았습니다.\n",
      "일치하는 항목을 찾았습니다.\n"
     ]
    }
   ],
   "source": [
    "print(text_match(\"ac\", \"ab?\"))   # b의 유무 상관없이 검색\n",
    "print(text_match(\"abc\", \"ab?\"))\n",
    "print(text_match(\"abbc\", \"ab?\"))"
   ]
  },
  {
   "cell_type": "code",
   "execution_count": 8,
   "metadata": {},
   "outputs": [
    {
     "name": "stdout",
     "output_type": "stream",
     "text": [
      "일치하는 항목을 찾았습니다.\n",
      "일치하는 항목을 찾았습니다.\n",
      "일치하는 항목을 찾았습니다.\n"
     ]
    }
   ],
   "source": [
    "print(text_match(\"ac\", \"ab*\"))   # * 앞에 0번 이상 반복하여 등장하면 검색\n",
    "print(text_match(\"abc\", \"ab*\"))\n",
    "print(text_match(\"abc\", \"ab*\"))"
   ]
  },
  {
   "cell_type": "code",
   "execution_count": 10,
   "metadata": {},
   "outputs": [
    {
     "name": "stdout",
     "output_type": "stream",
     "text": [
      "일치하지 않음.\n",
      "일치하는 항목을 찾았습니다.\n",
      "일치하는 항목을 찾았습니다.\n"
     ]
    }
   ],
   "source": [
    "print(text_match(\"ac\", \"ab+\"))   # * 와는 달리 +는 1번 이상 등장해야 한다\n",
    "print(text_match(\"abc\", \"ab+\"))\n",
    "print(text_match(\"abbc\", \"ab+\"))"
   ]
  },
  {
   "cell_type": "code",
   "execution_count": 11,
   "metadata": {},
   "outputs": [
    {
     "name": "stdout",
     "output_type": "stream",
     "text": [
      "일치하는 항목을 찾았습니다.\n"
     ]
    }
   ],
   "source": [
    "print(text_match(\"abbc\", \"ab{2}\"))  # {} 를 통해 2번 나타나는지 직접적으로 지정"
   ]
  },
  {
   "cell_type": "code",
   "execution_count": 13,
   "metadata": {},
   "outputs": [
    {
     "name": "stdout",
     "output_type": "stream",
     "text": [
      "일치하는 항목을 찾았습니다.\n"
     ]
    }
   ],
   "source": [
    "print(text_match(\"aabbbbc\", \"ab{3,5}?\"))  # 3과 5사이 (즉 4를 뜻한다) "
   ]
  }
 ],
 "metadata": {
  "kernelspec": {
   "display_name": "Python 3",
   "language": "python",
   "name": "python3"
  },
  "language_info": {
   "codemirror_mode": {
    "name": "ipython",
    "version": 3
   },
   "file_extension": ".py",
   "mimetype": "text/x-python",
   "name": "python",
   "nbconvert_exporter": "python",
   "pygments_lexer": "ipython3",
   "version": "3.8.3"
  }
 },
 "nbformat": 4,
 "nbformat_minor": 4
}
