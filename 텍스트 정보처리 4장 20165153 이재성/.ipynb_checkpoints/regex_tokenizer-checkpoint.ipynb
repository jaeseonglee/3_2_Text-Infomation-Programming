{
 "cells": [
  {
   "cell_type": "code",
   "execution_count": 1,
   "metadata": {},
   "outputs": [],
   "source": [
    "import re"
   ]
  },
  {
   "cell_type": "code",
   "execution_count": 2,
   "metadata": {},
   "outputs": [
    {
     "name": "stdout",
     "output_type": "stream",
     "text": [
      "['I', 'am', 'big!', \"It's\", 'the', 'pictures', 'that', 'got', 'small.']\n"
     ]
    }
   ],
   "source": [
    "raw = \"I am big! It's the pictures that got small.\"\n",
    "print(re.split(r' +', raw))"
   ]
  },
  {
   "cell_type": "code",
   "execution_count": 3,
   "metadata": {},
   "outputs": [
    {
     "name": "stdout",
     "output_type": "stream",
     "text": [
      "['I', 'am', 'big', 'It', 's', 'the', 'pictures', 'that', 'got', 'small', '']\n"
     ]
    }
   ],
   "source": [
    "print(re.split(r'\\W+', raw)) # split으로 raw를 토큰으로 나눠준다 \\W 알파벳 숫자 _ 제외한 문자"
   ]
  },
  {
   "cell_type": "code",
   "execution_count": 4,
   "metadata": {},
   "outputs": [
    {
     "name": "stdout",
     "output_type": "stream",
     "text": [
      "['I', 'am', 'big', '!', 'It', \"'s\", 'the', 'pictures', 'that', 'got', 'small', '.']\n"
     ]
    }
   ],
   "source": [
    "print(re.findall(r'\\w+|\\S\\w*', raw))   # \\w+ 문자하나 이상 |(파이프)   \\S\\w*"
   ]
  }
 ],
 "metadata": {
  "kernelspec": {
   "display_name": "Python 3",
   "language": "python",
   "name": "python3"
  },
  "language_info": {
   "codemirror_mode": {
    "name": "ipython",
    "version": 3
   },
   "file_extension": ".py",
   "mimetype": "text/x-python",
   "name": "python",
   "nbconvert_exporter": "python",
   "pygments_lexer": "ipython3",
   "version": "3.8.3"
  }
 },
 "nbformat": 4,
 "nbformat_minor": 4
}
