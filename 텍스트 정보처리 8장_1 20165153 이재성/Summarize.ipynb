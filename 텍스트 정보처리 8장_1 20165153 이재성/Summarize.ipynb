{
 "cells": [
  {
   "cell_type": "code",
   "execution_count": 1,
   "metadata": {},
   "outputs": [],
   "source": [
    "from gensim.summarization import summarize # 텍스트 순위 기바 요약 알고리즘 (243p)\n",
    "from bs4 import BeautifulSoup # HTML 문서를 파싱하기 위한 BeautifulSoup 라이브러리\n",
    "import requests # HTTP 리소스를 다운로드하는 라이브러리"
   ]
  },
  {
   "cell_type": "code",
   "execution_count": 4,
   "metadata": {},
   "outputs": [],
   "source": [
    "urls = {\n",
    "    'Daff: Unproven Unification of Suffix Trees and Redundancy': 'http://scigen.csail.mit.edu/scicache/610/scimakelatex.21945.none.html',\n",
    "    'CausticIslet: Exploration of Rasterization': 'http://scigen.csail.mit.edu/scicache/790/scimakelatex.1499.none.html'\n",
    "}"
   ]
  },
  {
   "cell_type": "code",
   "execution_count": 5,
   "metadata": {},
   "outputs": [
    {
     "name": "stdout",
     "output_type": "stream",
     "text": [
      "PAPER URL: http://scigen.csail.mit.edu/scicache/610/scimakelatex.21945.none.html\n",
      "TITLE: Daff: Unproven Unification of Suffix Trees and Redundancy\n",
      "GENERATED SUMMARY: \n",
      "\n",
      "PAPER URL: http://scigen.csail.mit.edu/scicache/790/scimakelatex.1499.none.html\n",
      "TITLE: CausticIslet: Exploration of Rasterization\n",
      "GENERATED SUMMARY: \n",
      "\n"
     ]
    }
   ],
   "source": [
    "for key in urls.keys(): # 딕셔너리의 모든 키에 대해서 반복\n",
    "    url = urls[key]\n",
    "    r = requests.get(url)\n",
    "    soup = BeautifulSoup(r.text, 'html.parser') # 파싱 \n",
    "    data = soup.get_text()\n",
    "    pos1 = data.find(\"1  Introduction\") + len(\"1  Introduction\")\n",
    "    pos2 = data.find(\"2  Related Work\")\n",
    "    text = data[pos1:pos2].strip()\n",
    "    print(\"PAPER URL: {}\".format(url))\n",
    "    print(\"TITLE: {}\".format(key))\n",
    "    print(\"GENERATED SUMMARY: {}\".format(summarize(text)))\n",
    "    print()"
   ]
  }
 ],
 "metadata": {
  "kernelspec": {
   "display_name": "Python 3",
   "language": "python",
   "name": "python3"
  },
  "language_info": {
   "codemirror_mode": {
    "name": "ipython",
    "version": 3
   },
   "file_extension": ".py",
   "mimetype": "text/x-python",
   "name": "python",
   "nbconvert_exporter": "python",
   "pygments_lexer": "ipython3",
   "version": "3.8.3"
  }
 },
 "nbformat": 4,
 "nbformat_minor": 4
}
