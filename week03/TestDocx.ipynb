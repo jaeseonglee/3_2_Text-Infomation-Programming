{
 "cells": [
  {
   "cell_type": "code",
   "execution_count": 1,
   "metadata": {},
   "outputs": [
    {
     "name": "stdout",
     "output_type": "stream",
     "text": [
      "Requirement already satisfied: python-docx in c:\\users\\samsung\\anaconda3\\lib\\site-packages (0.8.10)\n",
      "Requirement already satisfied: lxml>=2.3.2 in c:\\users\\samsung\\anaconda3\\lib\\site-packages (from python-docx) (4.5.2)\n"
     ]
    }
   ],
   "source": [
    "import docx\n",
    "import word"
   ]
  },
  {
   "cell_type": "code",
   "execution_count": 44,
   "metadata": {},
   "outputs": [
    {
     "name": "stdout",
     "output_type": "stream",
     "text": [
      "Document in full :\n",
      " 몇몇 볼드체, 이탤릭체, 밑줄 친 텍스트가 있는 샘플 PDF 문서입니다. 다음과 같은 제목도 포함돼 있습니다.\n",
      "제목입니다.\n",
      "세 번째 단락입니다.\n"
     ]
    }
   ],
   "source": [
    "# cookbook_c-2 폴더는 책의 링크의 드롭박스에서 받은 폴더명\n",
    "# sample_word.docx: 드롭박스 파일에는 없지만 교수님이 올려주신 파일, 아래 파일의 한글버전이다\n",
    "# sample-one-line.docx : 책에서 가리키는 드롭박스의 파일\n",
    "\n",
    "#docName = './cookbook_c-2/sample-one-line.docx'\n",
    "docName = './cookbook_c-2/sample_word.docx'\n",
    "print('Document in full :\\n', word.getTextWord(docName))"
   ]
  },
  {
   "cell_type": "code",
   "execution_count": 45,
   "metadata": {},
   "outputs": [
    {
     "name": "stdout",
     "output_type": "stream",
     "text": [
      "단락 수 : 3\n",
      "2번 단락 : 제목입니다.\n",
      "2번 단락 스타일 : _ParagraphStyle('Normal') id: 3104867498736\n"
     ]
    }
   ],
   "source": [
    "doc = docx.Document(docName)\n",
    "print('단락 수 :', len(doc.paragraphs))\n",
    "print('2번 단락 :', doc.paragraphs[1].text)\n",
    "print('2번 단락 스타일 :', doc.paragraphs[1].style) # style로 단락 스타일 확인"
   ]
  },
  {
   "cell_type": "code",
   "execution_count": 46,
   "metadata": {},
   "outputs": [
    {
     "name": "stdout",
     "output_type": "stream",
     "text": [
      "Paragraph 1: 몇몇 볼드체, 이탤릭체, 밑줄 친 텍스트가 있는 샘플 PDF 문서입니다. 다음과 같은 제목도 포함돼 있습니다.\n",
      "Number of runs in paragraph 1: 13\n"
     ]
    }
   ],
   "source": [
    "print('Paragraph 1:', doc.paragraphs[0].text)\n",
    "print('Number of runs in paragraph 1:', len(doc.paragraphs[0].runs))"
   ]
  },
  {
   "cell_type": "code",
   "execution_count": 47,
   "metadata": {},
   "outputs": [
    {
     "name": "stdout",
     "output_type": "stream",
     "text": [
      "Run 0 : 몇몇 \n",
      "Run 1 : 볼드체\n",
      "Run 2 : ,\n",
      "Run 3 :  \n",
      "Run 4 : 이탤릭체\n",
      "Run 5 : ,\n",
      "Run 6 :  \n",
      "Run 7 : 밑줄 친 텍스트가 있는 샘플\n",
      "Run 8 :  \n",
      "Run 9 : PDF \n",
      "Run 10 : 문서입니다.\n",
      "Run 11 :  \n",
      "Run 12 : 다음과 같은 제목도 포함돼 있습니다.\n"
     ]
    }
   ],
   "source": [
    "for idx, run in enumerate(doc.paragraphs[0].runs):\n",
    "    print('Run %s : %s' %(idx, run.text))"
   ]
  },
  {
   "cell_type": "code",
   "execution_count": 48,
   "metadata": {},
   "outputs": [
    {
     "name": "stdout",
     "output_type": "stream",
     "text": [
      "is Run 0 underlined: True\n",
      "is Run 2 bold: None\n",
      "is Run 7 italic: True\n"
     ]
    }
   ],
   "source": [
    "print('is Run 0 underlined:', doc.paragraphs[0].runs[7].underline) # 밑줄, sample-one-line.docx 파일로 할 때는 runs[5]로 변경\n",
    "print('is Run 2 bold:', doc.paragraphs[0].runs[1].bold) # 볼드체, sample_word.docx에는 실제로 볼드체가 되어있지 않기 때문에 결과는 None\n",
    "print('is Run 7 italic:', doc.paragraphs[0].runs[4].italic) # 이탤릭, sample-one-line.docx 파일로 할 때는 runs[7]로 변경"
   ]
  }
 ],
 "metadata": {
  "kernelspec": {
   "display_name": "Python 3",
   "language": "python",
   "name": "python3"
  },
  "language_info": {
   "codemirror_mode": {
    "name": "ipython",
    "version": 3
   },
   "file_extension": ".py",
   "mimetype": "text/x-python",
   "name": "python",
   "nbconvert_exporter": "python",
   "pygments_lexer": "ipython3",
   "version": "3.8.3"
  }
 },
 "nbformat": 4,
 "nbformat_minor": 4
}
