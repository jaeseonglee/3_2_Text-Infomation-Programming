{
 "cells": [
  {
   "cell_type": "code",
   "execution_count": 3,
   "metadata": {},
   "outputs": [
    {
     "name": "stdout",
     "output_type": "stream",
     "text": [
      "Requirement already satisfied: PyPDF2 in c:\\users\\samsung\\anaconda3\\lib\\site-packages (1.26.0)\n"
     ]
    }
   ],
   "source": [
    "!pip3 install PyPDF2"
   ]
  },
  {
   "cell_type": "code",
   "execution_count": 4,
   "metadata": {},
   "outputs": [],
   "source": [
    "from PyPDF2 import PdfFileReader"
   ]
  },
  {
   "cell_type": "code",
   "execution_count": 8,
   "metadata": {},
   "outputs": [],
   "source": [
    "def getTextPDF(pdfFileName, password = ''):# getTextPDF 함수 \n",
    "    pdf_file = open(pdfFileName, 'rb') # 파일을 읽기 및 역방향 탐색 모드로 open\n",
    "    read_pdf = PdfFileReader(pdf_file) # 열린 파일을 PDF 문서로 사용\n",
    "    if password != '':\n",
    "        read_pdf.decrypt(password)\n",
    "    text = []\n",
    "    for i in range(0, read_pdf.getNumPages()): # 책에는 -1이 붙는다. (58p)\n",
    "        text.append(read_pdf.getPage(i).extractText()) # append를 통해 리스트를 만들어 준다.\n",
    "    return '\\n'.join(text) # join으로 문자열을 만들어 반환"
   ]
  }
 ],
 "metadata": {
  "kernelspec": {
   "display_name": "Python 3",
   "language": "python",
   "name": "python3"
  },
  "language_info": {
   "codemirror_mode": {
    "name": "ipython",
    "version": 3
   },
   "file_extension": ".py",
   "mimetype": "text/x-python",
   "name": "python",
   "nbconvert_exporter": "python",
   "pygments_lexer": "ipython3",
   "version": "3.8.3"
  }
 },
 "nbformat": 4,
 "nbformat_minor": 4
}
