{
 "cells": [
  {
   "cell_type": "code",
   "execution_count": 3,
   "metadata": {},
   "outputs": [],
   "source": [
    "nameList = ['유나', '지은', '스튜어트', '케빈'] # str 객체의 리스트\n",
    "sentence = '우리 강아지는 소파 위에서 잔다'  # str 객체인 하나의 문장"
   ]
  },
  {
   "cell_type": "code",
   "execution_count": 4,
   "metadata": {},
   "outputs": [
    {
     "name": "stdout",
     "output_type": "stream",
     "text": [
      "<class 'str'> : 유나;지은;스튜어트;케빈\n"
     ]
    }
   ],
   "source": [
    "names = ';'.join(nameList) # join\n",
    "print(type(names), ':', names)"
   ]
  },
  {
   "cell_type": "code",
   "execution_count": 5,
   "metadata": {},
   "outputs": [
    {
     "name": "stdout",
     "output_type": "stream",
     "text": [
      "<class 'list'> : ['우리', '강아지는', '소파', '위에서', '잔다']\n"
     ]
    }
   ],
   "source": [
    "wordList = sentence.split(' ') # split\n",
    "print((type(wordList)), ':', wordList)"
   ]
  },
  {
   "cell_type": "code",
   "execution_count": 6,
   "metadata": {},
   "outputs": [],
   "source": [
    "additionExample = '파이썬 ' + '파이썬 ' + '파이썬'\n",
    "multiplicationExample = '파이썬 ' * 2"
   ]
  },
  {
   "cell_type": "code",
   "execution_count": 7,
   "metadata": {},
   "outputs": [
    {
     "name": "stdout",
     "output_type": "stream",
     "text": [
      "텍스트 덧셈 : 파이썬 파이썬 파이썬\n",
      "텍스트 곱셈 : 파이썬 파이썬 \n"
     ]
    }
   ],
   "source": [
    "print('텍스트 덧셈 :', additionExample)\n",
    "print('텍스트 곱셈 :', multiplicationExample)"
   ]
  },
  {
   "cell_type": "code",
   "execution_count": 8,
   "metadata": {},
   "outputs": [
    {
     "name": "stdout",
     "output_type": "stream",
     "text": [
      "y\n",
      "L\n"
     ]
    }
   ],
   "source": [
    "str = 'Python NLTK'\n",
    "print(str[1])\n",
    "print(str[-3])"
   ]
  }
 ],
 "metadata": {
  "kernelspec": {
   "display_name": "Python 3",
   "language": "python",
   "name": "python3"
  },
  "language_info": {
   "codemirror_mode": {
    "name": "ipython",
    "version": 3
   },
   "file_extension": ".py",
   "mimetype": "text/x-python",
   "name": "python",
   "nbconvert_exporter": "python",
   "pygments_lexer": "ipython3",
   "version": "3.8.3"
  }
 },
 "nbformat": 4,
 "nbformat_minor": 4
}
