{
 "cells": [
  {
   "cell_type": "code",
   "execution_count": 1,
   "metadata": {},
   "outputs": [
    {
     "name": "stdout",
     "output_type": "stream",
     "text": [
      "Collecting feedparser\n",
      "  Downloading feedparser-6.0.1-py2.py3-none-any.whl (80 kB)\n",
      "Collecting sgmllib3k\n",
      "  Downloading sgmllib3k-1.0.0.tar.gz (5.8 kB)\n",
      "Building wheels for collected packages: sgmllib3k\n",
      "  Building wheel for sgmllib3k (setup.py): started\n",
      "  Building wheel for sgmllib3k (setup.py): finished with status 'done'\n",
      "  Created wheel for sgmllib3k: filename=sgmllib3k-1.0.0-py3-none-any.whl size=6071 sha256=d97b731183e7f97571470f4d110cb668d057bf66e8fe564133cddbc1842b77c0\n",
      "  Stored in directory: c:\\users\\samsung\\appdata\\local\\pip\\cache\\wheels\\83\\63\\2f\\117884c3b19d46b64d3d61690333aa80c88dc14050e269c546\n",
      "Successfully built sgmllib3k\n",
      "Installing collected packages: sgmllib3k, feedparser\n",
      "Successfully installed feedparser-6.0.1 sgmllib3k-1.0.0\n"
     ]
    }
   ],
   "source": [
    "!pip3 install feedparser"
   ]
  },
  {
   "cell_type": "code",
   "execution_count": 2,
   "metadata": {},
   "outputs": [],
   "source": [
    "import feedparser"
   ]
  },
  {
   "cell_type": "code",
   "execution_count": 3,
   "metadata": {},
   "outputs": [],
   "source": [
    "myFeed = feedparser.parse(\"http://feeds.mashable.com/Mashable\")"
   ]
  },
  {
   "cell_type": "code",
   "execution_count": 4,
   "metadata": {},
   "outputs": [
    {
     "name": "stdout",
     "output_type": "stream",
     "text": [
      "피드 제목 : Mashable\n",
      "포스트 수 : 30\n"
     ]
    }
   ],
   "source": [
    "print('피드 제목 :', myFeed['feed']['title'])\n",
    "print('포스트 수 :', len(myFeed.entries))"
   ]
  },
  {
   "cell_type": "code",
   "execution_count": 5,
   "metadata": {},
   "outputs": [
    {
     "name": "stdout",
     "output_type": "stream",
     "text": [
      "포스트 제목 : Stephen Colbert mocks Trump's bizarre, unfounded speculation that Biden is on drugs\n"
     ]
    }
   ],
   "source": [
    "post = myFeed.entries[0]\n",
    "print('포스트 제목 :', post.title) # 가장 위에 있는 post (200916 기준 아래의 제목이다.)"
   ]
  },
  {
   "cell_type": "code",
   "execution_count": 6,
   "metadata": {},
   "outputs": [
    {
     "name": "stdout",
     "output_type": "stream",
     "text": [
      "콘텐츠 원본 :\n",
      " <img alt=\"Stephen Colbert mocks Trump's bizarre, unfounded speculation that Biden is on drugs\" src=\"https://mondrian.mashable.com/lead-img-stephen-colbert-trump-biden-drug-test.png\" /><div>\n",
      "<p></p>\n",
      "\n",
      "</div>\n",
      "<p>The first presidential debate between President Donald Trump and Democratic nominee Joe Biden is scheduled to take place on September 29, just two weeks away. As such, Trump is busy preparing in the lead up to this important event &#8212; by <a href=\"https://www.bbc.com/news/election-us-2020-53927766\">accusing Biden of taking drugs</a>.&#160;</p>\n",
      "<p>\"'Ya caught me, Don!'\" quipped <em>Late Show </em>host Stephen Colbert on Tuesday, donning aviator sunglasses to perform an impersonation of Biden. \"'I've been juicing. Tomato, beet, prune. I'm as regular as the atomic clock, Jack!'\"</p>\n",
      "<div><p>SEE ALSO: <a href=\"https://mashable.com/video/stephen-colbert-trump-rnc-speech/?utm_campaign&amp;utm_cid=a-seealso&amp;utm_context=textlink&amp;utm_medium=rss&amp;utm_source\">Stephen Colbert mocks Trump's RNC speech, line by line</a></p></div>\n",
      "<p>If you thought Trump might have a reasonable basis for his speculation then I'm sorry to disappoint you, but also that's kind of your bad for assuming he'd have a reasonable basis for anything. Speaking to <a href=\"https://www.washingtonexaminer.com/news/trump-calls-for-drug-tests-before-biden-debate\">the <em>Washington Examiner</em></a>, Trump stated he thought Biden might be on drugs because he participated in a \"normal boring debate\" against Bernie Sanders, in which \"nothing amazing happened.\" <a href=\"https://mashable.com/video/stephen-colbert-trump-biden-drug-test/\">Read more...</a></p>More about <a href=\"https://mashable.com/category/joe-biden/?utm_campaign=Mash-Prod-RSS-Feedburner-All-Partial&amp;utm_cid=Mash-Prod-RSS-Feedburner-All-Partial\">Joe Biden</a>, <a href=\"https://mashable.com/category/donald-trump/?utm_campaign=Mash-Prod-RSS-Feedburner-All-Partial&amp;utm_cid=Mash-Prod-RSS-Feedburner-All-Partial\">Donald Trump</a>, <a href=\"https://mashable.com/category/stephen-colbert/?utm_campaign=Mash-Prod-RSS-Feedburner-All-Partial&amp;utm_cid=Mash-Prod-RSS-Feedburner-All-Partial\">Stephen Colbert</a>, <a href=\"https://mashable.com/category/the-late-show-with-stephen-colbert/?utm_campaign=Mash-Prod-RSS-Feedburner-All-Partial&amp;utm_cid=Mash-Prod-RSS-Feedburner-All-Partial\">The Late Show With Stephen Colbert</a>, and <a href=\"https://mashable.com/category/election-2020/?utm_campaign=Mash-Prod-RSS-Feedburner-All-Partial&amp;utm_cid=Mash-Prod-RSS-Feedburner-All-Partial\">Election 2020</a><img alt=\"\" height=\"1\" src=\"http://feeds.feedburner.com/~r/Mashable/~4/8Z96u0rFfyg\" width=\"1\" />\n"
     ]
    }
   ],
   "source": [
    "content = post.content[0].value\n",
    "print('콘텐츠 원본 :\\n', content)"
   ]
  }
 ],
 "metadata": {
  "kernelspec": {
   "display_name": "Python 3",
   "language": "python",
   "name": "python3"
  },
  "language_info": {
   "codemirror_mode": {
    "name": "ipython",
    "version": 3
   },
   "file_extension": ".py",
   "mimetype": "text/x-python",
   "name": "python",
   "nbconvert_exporter": "python",
   "pygments_lexer": "ipython3",
   "version": "3.8.3"
  }
 },
 "nbformat": 4,
 "nbformat_minor": 4
}
