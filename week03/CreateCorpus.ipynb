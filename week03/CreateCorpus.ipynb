{
 "cells": [
  {
   "cell_type": "code",
   "execution_count": 32,
   "metadata": {},
   "outputs": [],
   "source": [
    "import os\n",
    "import word, pdf\n",
    "import nltk\n",
    "from nltk.corpus.reader.plaintext import PlaintextCorpusReader"
   ]
  },
  {
   "cell_type": "code",
   "execution_count": 33,
   "metadata": {},
   "outputs": [],
   "source": [
    "def getText(txtFileName):\n",
    "    file = open(txtFileName, 'r')\n",
    "    return file.read()"
   ]
  },
  {
   "cell_type": "code",
   "execution_count": 34,
   "metadata": {},
   "outputs": [],
   "source": [
    "newCorpusDir = 'mycorpus/' # 파일 생성\n",
    "if not os.path.isdir(newCorpusDir): # 없으면\n",
    "    os.mkdir(newCorpusDir) # mkdir로 만들기"
   ]
  },
  {
   "cell_type": "code",
   "execution_count": 35,
   "metadata": {},
   "outputs": [],
   "source": [
    "# cookbook_c-2 폴더는 책의 링크의 드롭박스에서 받은 폴더명\n",
    "txt1 = getText('./cookbook_c-2/sample_feed.txt')\n",
    "txt2 = pdf.getTextPDF('./cookbook_c-2/sample-pdf.pdf')\n",
    "txt3 = word.getTextWord('./cookbook_c-2/sample-one-line.docx')"
   ]
  },
  {
   "cell_type": "code",
   "execution_count": 36,
   "metadata": {},
   "outputs": [],
   "source": [
    "files = [txt1, txt2, txt3]\n",
    "for idx, f in enumerate(files):\n",
    "    with open(newCorpusDir+str(idx)+'.txt', 'w') as fout: # 쓰기 모드로 파일 열기\n",
    "        fout.write(f)"
   ]
  },
  {
   "cell_type": "code",
   "execution_count": 37,
   "metadata": {},
   "outputs": [],
   "source": [
    "newCorpus = PlaintextCorpusReader(newCorpusDir, '.*')"
   ]
  },
  {
   "cell_type": "code",
   "execution_count": 41,
   "metadata": {},
   "outputs": [
    {
     "name": "stdout",
     "output_type": "stream",
     "text": [
      "['Five', 'months', '.', 'That', \"'\", 's', 'how', ...]\n",
      "[['A', 'generic', 'NLP'], ['(', 'Natural', 'Language', 'Processing', ')', 'toolset'], ...]\n",
      "[[['Five', 'months', '.']], [['That', \"'\", 's', 'how', 'long', 'it', \"'\", 's', 'been', 'since', 'Mass', 'Effect', ':', 'Andromeda', 'launched', ',', 'and', 'that', \"'\", 's', 'how', 'long', 'it', 'took', 'BioWare', 'Montreal', 'to', 'admit', 'that', 'nothing', 'more', 'can', 'be', 'done', 'with', 'the', 'ailing', 'game', \"'\", 's', 'story', 'mode', '.'], ['Technically', ',', 'it', 'wasn', \"'\", 't', 'even', 'a', 'full', 'five', 'months', ',', 'as', 'Andromeda', 'launched', 'on', 'March', '21', '.']], ...]\n"
     ]
    }
   ],
   "source": [
    "print(newCorpus.words()) # 모든 단어 출력\n",
    "print(newCorpus.sents(newCorpus.fileids()[1])) # 1.txt 파일 출력\n",
    "print(newCorpus.paras(newCorpus.fileids()[0])) # 0.txt 파일 출력"
   ]
  }
 ],
 "metadata": {
  "kernelspec": {
   "display_name": "Python 3",
   "language": "python",
   "name": "python3"
  },
  "language_info": {
   "codemirror_mode": {
    "name": "ipython",
    "version": 3
   },
   "file_extension": ".py",
   "mimetype": "text/x-python",
   "name": "python",
   "nbconvert_exporter": "python",
   "pygments_lexer": "ipython3",
   "version": "3.8.3"
  }
 },
 "nbformat": 4,
 "nbformat_minor": 4
}
