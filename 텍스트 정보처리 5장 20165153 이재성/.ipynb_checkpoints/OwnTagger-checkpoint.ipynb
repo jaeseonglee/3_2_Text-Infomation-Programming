{
 "cells": [
  {
   "cell_type": "code",
   "execution_count": 1,
   "metadata": {},
   "outputs": [
    {
     "name": "stdout",
     "output_type": "stream",
     "text": [
      "Collecting python-crfsuiteNote: you may need to restart the kernel to use updated packages.\n",
      "  Downloading python_crfsuite-0.9.7-cp38-cp38-win_amd64.whl (156 kB)\n",
      "Installing collected packages: python-crfsuite\n",
      "Successfully installed python-crfsuite-0.9.7\n",
      "\n"
     ]
    }
   ],
   "source": [
    "pip install python-crfsuite"
   ]
  },
  {
   "cell_type": "code",
   "execution_count": 2,
   "metadata": {},
   "outputs": [],
   "source": [
    "import nltk"
   ]
  },
  {
   "cell_type": "code",
   "execution_count": 3,
   "metadata": {},
   "outputs": [
    {
     "name": "stderr",
     "output_type": "stream",
     "text": [
      "[nltk_data] Downloading package punkt to\n",
      "[nltk_data]     C:\\Users\\SAMSUNG\\AppData\\Roaming\\nltk_data...\n",
      "[nltk_data]   Package punkt is already up-to-date!\n",
      "[nltk_data] Downloading package averaged_perceptron_tagger to\n",
      "[nltk_data]     C:\\Users\\SAMSUNG\\AppData\\Roaming\\nltk_data...\n",
      "[nltk_data]   Package averaged_perceptron_tagger is already up-to-\n",
      "[nltk_data]       date!\n"
     ]
    },
    {
     "data": {
      "text/plain": [
       "True"
      ]
     },
     "execution_count": 3,
     "metadata": {},
     "output_type": "execute_result"
    }
   ],
   "source": [
    "nltk.download('punkt')\n",
    "nltk.download('averaged_perceptron_tagger')"
   ]
  },
  {
   "cell_type": "code",
   "execution_count": 5,
   "metadata": {},
   "outputs": [],
   "source": [
    "def learnDefaultTagger(simpleSentence):\n",
    "    wordsInSentence = nltk.word_tokenize(simpleSentence)  # 매개변수 토큰으로 분리\n",
    "    tagger = nltk.DefaultTagger(\"NN\") # NN으로 다 태깅\n",
    "    posEnabledTags = tagger.tag(wordsInSentence)\n",
    "    print(posEnabledTags)"
   ]
  },
  {
   "cell_type": "code",
   "execution_count": 11,
   "metadata": {},
   "outputs": [],
   "source": [
    "def learnRETagger(simpleSentence): # 하나하나 다 지정해서 사용\n",
    "    customPatterns = [ # 튜플 구조를 사용해서 저장\n",
    "        (r'.*ing$', 'ADJECTIVE'), # 정규표현식과 품사 타입으로 매칭, ing면 형용사\n",
    "        (r'.*ly$', 'ADVERB'), # ly 면 부사\n",
    "        (r'.*ion$', 'NOUN'), # ion이면 명사\n",
    "        (r'(.*ate|.*en|is)$', 'VERB'), # ate, en, is 는 동사\n",
    "        (r'^an$,', 'INDEFINITE-ARTICLE'), # 부정관사 \n",
    "        (r'^(with|on|at)$', 'PREPOSITION'), # with, on,at 전치사\n",
    "        (r'^\\-?[0-9]+(\\.[0-9]+)$', 'NUMBER'), #  숫자는 숫자\n",
    "        (r'.*$', None),] # 그 외 다른 것은 None으로 지정\n",
    "  \n",
    "    tagger = nltk.RegexpTagger(customPatterns) # 위의 튜플을 이용하여 전달\n",
    "    wordsInSentence = nltk.word_tokenize(simpleSentence)\n",
    "    posEnabledTags = tagger.tag(wordsInSentence)\n",
    "    print(posEnabledTags)"
   ]
  },
  {
   "cell_type": "code",
   "execution_count": 17,
   "metadata": {},
   "outputs": [],
   "source": [
    "def learnLookupTagger(simpleSentence):\n",
    "    mapping = {\n",
    "        '.': '.', 'place': 'NN', 'on': 'IN',\n",
    "        'earth': 'NN', 'MySore': 'NNP', 'is': 'VBZ',\n",
    "        'an': 'DT', 'amazing': 'JJ' # 교재 133p amazing으로 표기 되어 있음.\n",
    "         }\n",
    "    tagger = nltk.UnigramTagger(model=mapping) #  UnigramTagger 태거로 매핑\n",
    "    wordsInSentence = nltk.word_tokenize(simpleSentence)\n",
    "    posEnabledTags = tagger.tag(wordsInSentence)\n",
    "    print(posEnabledTags)"
   ]
  },
  {
   "cell_type": "code",
   "execution_count": 20,
   "metadata": {},
   "outputs": [
    {
     "name": "stdout",
     "output_type": "stream",
     "text": [
      "[('Mysore', 'NN'), ('is', 'NN'), ('an', 'NN'), ('amazing', 'NN'), ('place', 'NN'), ('on', 'NN'), ('earth', 'NN'), ('.', 'NN'), ('I', 'NN'), ('have', 'NN'), ('visited', 'NN'), ('Mysore', 'NN'), ('10', 'NN'), ('times', 'NN'), ('.', 'NN')]\n",
      "\n",
      "[('Mysore', None), ('is', 'VERB'), ('an', None), ('amazing', 'ADJECTIVE'), ('place', None), ('on', 'PREPOSITION'), ('earth', None), ('.', None), ('I', None), ('have', None), ('visited', None), ('Mysore', None), ('10', None), ('times', None), ('.', None)]\n",
      "\n",
      "[('Mysore', None), ('is', 'VBZ'), ('an', 'DT'), ('amazing', 'JJ'), ('place', 'NN'), ('on', 'IN'), ('earth', 'NN'), ('.', '.'), ('I', None), ('have', None), ('visited', None), ('Mysore', None), ('10', None), ('times', None), ('.', '.')]\n"
     ]
    }
   ],
   "source": [
    "if __name__ == '__main__':\n",
    "    testSentence = \"Mysore is an amazing place on earth. I have visited Mysore 10 times.\"\n",
    "    learnDefaultTagger(testSentence)\n",
    "    print( )\n",
    "    learnRETagger(testSentence)\n",
    "    print( )\n",
    "    learnLookupTagger(testSentence)\n"
   ]
  },
  {
   "cell_type": "code",
   "execution_count": null,
   "metadata": {},
   "outputs": [],
   "source": []
  }
 ],
 "metadata": {
  "kernelspec": {
   "display_name": "Python 3",
   "language": "python",
   "name": "python3"
  },
  "language_info": {
   "codemirror_mode": {
    "name": "ipython",
    "version": 3
   },
   "file_extension": ".py",
   "mimetype": "text/x-python",
   "name": "python",
   "nbconvert_exporter": "python",
   "pygments_lexer": "ipython3",
   "version": "3.8.3"
  }
 },
 "nbformat": 4,
 "nbformat_minor": 4
}
